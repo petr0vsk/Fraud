{
  "nbformat": 4,
  "nbformat_minor": 0,
  "metadata": {
    "colab": {
      "provenance": [],
      "authorship_tag": "ABX9TyNOHQBWsPxS7ijobQUFw5v8",
      "include_colab_link": true
    },
    "kernelspec": {
      "name": "python3",
      "display_name": "Python 3"
    },
    "language_info": {
      "name": "python"
    }
  },
  "cells": [
    {
      "cell_type": "markdown",
      "metadata": {
        "id": "view-in-github",
        "colab_type": "text"
      },
      "source": [
        "<a href=\"https://colab.research.google.com/github/petr0vsk/Fraud/blob/main/Fraud_check.ipynb\" target=\"_parent\"><img src=\"https://colab.research.google.com/assets/colab-badge.svg\" alt=\"Open In Colab\"/></a>"
      ]
    },
    {
      "cell_type": "markdown",
      "source": [
        "кода для проверки процента ошибок по новой выгрузке"
      ],
      "metadata": {
        "id": "mAfLJ3_NAbRL"
      }
    },
    {
      "cell_type": "code",
      "execution_count": 1,
      "metadata": {
        "colab": {
          "base_uri": "https://localhost:8080/"
        },
        "id": "D6UIJGzguNJ5",
        "outputId": "708d23e7-7663-4584-b542-80279fe1af2d"
      },
      "outputs": [
        {
          "output_type": "stream",
          "name": "stdout",
          "text": [
            "\n",
            "Информация по кластерам:\n",
            "Кластер  Всего транзакций  Ложных срабатываний Процент ложных срабатываний\n",
            "cluster             86881                 1477                       1.70%\n",
            "cluster             86881                  154                       0.18%\n",
            "cluster             86881                   47                       0.05%\n",
            "\n",
            "Общий процент ложных срабатываний по всем кластерам: 0.64%\n"
          ]
        }
      ],
      "source": [
        "import pandas as pd\n",
        "\n",
        "# 1. Загрузка новой выгрузки по транзакциям\n",
        "def load_new_transactions(file_path):\n",
        "    \"\"\"\n",
        "    Загружает новую выгрузку транзакций.\n",
        "\n",
        "    Аргументы:\n",
        "        file_path (str): путь к файлу с новыми транзакциями.\n",
        "\n",
        "    Возвращает:\n",
        "        pd.DataFrame: датафрейм с новыми транзакциями.\n",
        "    \"\"\"\n",
        "    df = pd.read_csv(file_path, delimiter=';', header=None)\n",
        "    df.columns = ['inn', 'org_name', 'amount', 'type', 'code', 'timestamp']\n",
        "\n",
        "    # Преобразование суммы в числовой формат\n",
        "    df['amount'] = df['amount'].apply(lambda x: str(x).replace(',', '.'))\n",
        "    df['amount'] = pd.to_numeric(df['amount'], errors='coerce')\n",
        "\n",
        "    return df\n",
        "\n",
        "# 2. Проверка новых транзакций с порогами кластеров\n",
        "def check_new_transactions(new_transactions, cluster_files):\n",
        "    \"\"\"\n",
        "    Проверяет новые транзакции по порогам срабатывания кластеров.\n",
        "\n",
        "    Аргументы:\n",
        "        new_transactions (pd.DataFrame): датафрейм с новыми транзакциями.\n",
        "        cluster_files (list): список путей к файлам кластеров (Excel-файлы).\n",
        "\n",
        "    Возвращает:\n",
        "        pd.DataFrame: данные с результатами проверки по каждому кластеру.\n",
        "    \"\"\"\n",
        "    all_results = pd.DataFrame()\n",
        "\n",
        "    # Список для хранения информации по каждому кластеру\n",
        "    cluster_info = []\n",
        "\n",
        "    # Загрузка данных каждого кластера\n",
        "    for cluster_file in cluster_files:\n",
        "        cluster_name = cluster_file.split('_')[0]  # Извлечение имени кластера из имени файла\n",
        "        df_cluster = pd.read_excel(cluster_file)\n",
        "\n",
        "        # Сопоставление новых транзакций с кластерами по ИНН\n",
        "        merged_df = pd.merge(new_transactions, df_cluster[['inn', 'threshold']], on='inn', how='left')\n",
        "\n",
        "        # Проверка, превышают ли суммы пороги срабатывания\n",
        "        merged_df['error'] = merged_df['amount'] > merged_df['threshold']\n",
        "\n",
        "        # Подсчет ошибок и транзакций по каждому ИНН\n",
        "        result_df = merged_df.groupby('inn').agg(\n",
        "            total_transactions=('amount', 'count'),\n",
        "            total_errors=('error', 'sum')\n",
        "        ).reset_index()\n",
        "\n",
        "        # Добавление данных по кластеру\n",
        "        total_transactions = result_df['total_transactions'].sum()\n",
        "        total_errors = result_df['total_errors'].sum()\n",
        "        error_rate = (total_errors / total_transactions) * 100 if total_transactions > 0 else 0\n",
        "\n",
        "        cluster_info.append({\n",
        "            'Кластер': cluster_name,\n",
        "            'Всего транзакций': total_transactions,\n",
        "            'Ложных срабатываний': total_errors,\n",
        "            'Процент ложных срабатываний': f\"{error_rate:.2f}%\"\n",
        "        })\n",
        "\n",
        "        # Добавляем в общие результаты\n",
        "        all_results = pd.concat([all_results, result_df], ignore_index=True)\n",
        "\n",
        "    return all_results, pd.DataFrame(cluster_info)\n",
        "\n",
        "# 3. Подсчет процента ложных срабатываний\n",
        "def calculate_error_rate(results_df):\n",
        "    \"\"\"\n",
        "    Подсчитывает процент ложных срабатываний.\n",
        "\n",
        "    Аргументы:\n",
        "        results_df (pd.DataFrame): данные с результатами проверки.\n",
        "\n",
        "    Возвращает:\n",
        "        float: процент ложных срабатываний.\n",
        "    \"\"\"\n",
        "    total_transactions = results_df['total_transactions'].sum()\n",
        "    total_errors = results_df['total_errors'].sum()\n",
        "\n",
        "    error_rate = (total_errors / total_transactions) * 100 if total_transactions > 0 else 0\n",
        "    return error_rate\n",
        "\n",
        "# 4. Основная часть программы\n",
        "if __name__ == \"__main__\":\n",
        "    # Загрузка новой выгрузки транзакций\n",
        "    new_transactions_file = 'fraud_02.2024.csv'\n",
        "    new_transactions = load_new_transactions(new_transactions_file)\n",
        "\n",
        "    # Список файлов с данными по кластерам\n",
        "    cluster_files = ['cluster_0_data_with_errors.xlsx', 'cluster_1_data_with_errors.xlsx', 'cluster_2_data_with_errors.xlsx']\n",
        "\n",
        "    # Проверка новых транзакций\n",
        "    results, cluster_info = check_new_transactions(new_transactions, cluster_files)\n",
        "\n",
        "    # Подсчет процента ложных срабатываний по каждому кластеру\n",
        "    print(\"\\nИнформация по кластерам:\")\n",
        "    print(cluster_info.to_string(index=False))\n",
        "\n",
        "    # Подсчет общего процента ложных срабатываний\n",
        "    overall_error_rate = calculate_error_rate(results)\n",
        "    print(f\"\\nОбщий процент ложных срабатываний по всем кластерам: {overall_error_rate:.2f}%\")\n"
      ]
    }
  ]
}